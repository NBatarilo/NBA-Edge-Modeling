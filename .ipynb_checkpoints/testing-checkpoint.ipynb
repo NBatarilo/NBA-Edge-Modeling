{
 "cells": [
  {
   "cell_type": "code",
   "execution_count": 1,
   "id": "71dbaa1c-5eab-4319-9bb6-be4a737e6b5b",
   "metadata": {},
   "outputs": [],
   "source": [
    "from nba_api.stats.endpoints import leaguegamelog\n",
    "import pandas as pd\n",
    "import numpy as np"
   ]
  },
  {
   "cell_type": "code",
   "execution_count": 2,
   "id": "85c83cee-a186-4e13-9253-ec61bd65dcc9",
   "metadata": {},
   "outputs": [],
   "source": [
    "games = leaguegamelog.LeagueGameLog(season = '2018')"
   ]
  },
  {
   "cell_type": "code",
   "execution_count": 3,
   "id": "f8b43ca7-4ede-4a82-95f9-493d866eb3c4",
   "metadata": {},
   "outputs": [],
   "source": [
    "df = pd.DataFrame(games.get_data_frames()[0])"
   ]
  },
  {
   "cell_type": "code",
   "execution_count": null,
   "id": "fd825235-c769-4fc5-9746-2ca3f1d1f843",
   "metadata": {},
   "outputs": [],
   "source": [
    "df"
   ]
  },
  {
   "cell_type": "code",
   "execution_count": null,
   "id": "4c6e285b-9ae4-48d2-94e9-ed05918f6c1f",
   "metadata": {},
   "outputs": [],
   "source": [
    "#Keep relevant variables\n",
    "df = df[['TEAM_ID', 'TEAM_ABBREVIATION', 'TEAM_NAME', 'GAME_ID',\n",
    "       'GAME_DATE', 'MATCHUP', 'WL', 'MIN', 'FGM', 'FGA', 'FG_PCT', 'FG3M',\n",
    "       'FG3A', 'FG3_PCT', 'FTM', 'FTA', 'FT_PCT', 'OREB', 'DREB', 'REB', 'AST',\n",
    "       'STL', 'BLK', 'TOV', 'PF', 'PTS', 'PLUS_MINUS']]"
   ]
  },
  {
   "cell_type": "code",
   "execution_count": 4,
   "id": "6b966d12-f9df-410a-87ca-c7fd4b883bd7",
   "metadata": {},
   "outputs": [],
   "source": [
    "teams = df['TEAM_NAME'].unique()"
   ]
  },
  {
   "cell_type": "code",
   "execution_count": null,
   "id": "8273bb3e-a0fb-485a-a8c2-9a43233d936b",
   "metadata": {},
   "outputs": [],
   "source": [
    "teams"
   ]
  },
  {
   "cell_type": "code",
   "execution_count": null,
   "id": "87824405-e1f2-4625-bac2-de56efa7adfc",
   "metadata": {},
   "outputs": [],
   "source": [
    "stat_dict = {}"
   ]
  },
  {
   "cell_type": "code",
   "execution_count": null,
   "id": "8d7bcf66-5b87-4ebe-be31-91c2f4ed4ac9",
   "metadata": {},
   "outputs": [],
   "source": [
    "home_df = df[df['MATCHUP'].str.contains(\"vs.\")]\n",
    "away_df = df[df['MATCHUP'].str.contains(\"@\")]"
   ]
  },
  {
   "cell_type": "code",
   "execution_count": null,
   "id": "c47effe1-f2dc-4f7d-94a9-a0108ca66b25",
   "metadata": {},
   "outputs": [],
   "source": [
    "merged = home_df.merge(away_df, on = \"GAME_ID\",suffixes = (\"_H\", \"_A\"))"
   ]
  },
  {
   "cell_type": "code",
   "execution_count": null,
   "id": "cf902266-7842-421a-acdd-a0117b8d1790",
   "metadata": {},
   "outputs": [],
   "source": [
    "merged = merged.sort_values(by = ['GAME_DATE'])"
   ]
  },
  {
   "cell_type": "code",
   "execution_count": 5,
   "id": "a073fba3-76e4-4b96-a4d2-ba591a8ffb2b",
   "metadata": {},
   "outputs": [],
   "source": [
    "#Can use this to get means and standard deviations\n",
    "def generate_team_stats(game_df, teams): \n",
    "    #stats_calc_dict = {}\n",
    "    #descriptive_dict = {}\n",
    "    all_stats_arr = np.empty((30, 77, 19))\n",
    "    all_teams_stats_df = pd.DataFrame()\n",
    "    for i, team in enumerate(teams):\n",
    "        temp_df = df[df['TEAM_NAME'] == team]\n",
    "        temp_df = temp_df.sort_values(by = ['GAME_DATE'])\n",
    "        temp_df = temp_df.set_index('GAME_ID')\n",
    "        key_data = temp_df[['TEAM_NAME', 'MATCHUP', 'WL']].iloc[5:]\n",
    "        temp_df = temp_df[[\n",
    "           'FGM', 'FGA', 'FG_PCT', 'FG3M',\n",
    "           'FG3A', 'FG3_PCT', 'FTM', 'FTA', 'FT_PCT', 'OREB', 'DREB', 'REB', 'AST',\n",
    "           'STL', 'BLK', 'TOV', 'PF', 'PTS', 'PLUS_MINUS']]\n",
    "        final_stats_df = temp_df.rolling(5).mean().shift(periods = 1).iloc[5:]#.to_dict('list')\n",
    "        single_stats_arr = final_stats_df.to_numpy()\n",
    "        all_stats_arr[i] = single_stats_arr\n",
    "        \n",
    "        final_organized_stats = temp_df.rolling(5).mean().shift(periods = 1).iloc[5:]#.to_dict('index')\n",
    "        stats_with_key = pd.concat([final_organized_stats, key_data], axis = 1)\n",
    "        #stats_calc_dict[team] = final_stats_df\n",
    "        all_teams_stats_df = pd.concat([all_teams_stats_df, stats_with_key], axis = 0)\n",
    "        #descriptive_dict[team] = final_organized_stats\n",
    "    return all_stats_arr, all_teams_stats_df"
   ]
  },
  {
   "cell_type": "code",
   "execution_count": 6,
   "id": "ea10d240-3799-4289-a8e5-4421d9c17083",
   "metadata": {},
   "outputs": [],
   "source": [
    "stats_arr, stats_df = generate_team_stats(df, teams)"
   ]
  },
  {
   "cell_type": "code",
   "execution_count": null,
   "id": "7bef1b17-44ae-47ab-b008-2933fe069a09",
   "metadata": {},
   "outputs": [],
   "source": [
    "stats_arr"
   ]
  },
  {
   "cell_type": "code",
   "execution_count": null,
   "id": "6f96e50c-7322-4797-8bdc-9362d9cf9d55",
   "metadata": {},
   "outputs": [],
   "source": [
    "#Function to flatten stats dict and find averages. Would show average and std dev. of team atttributes for 5th, \n",
    "# 6th... 82nd game\n",
    "\n",
    "num_teams = teams.size"
   ]
  },
  {
   "cell_type": "code",
   "execution_count": null,
   "id": "0fb4171e-5728-4abc-bcb4-e580e32f0781",
   "metadata": {},
   "outputs": [],
   "source": [
    "#test\n",
    "team = 'Oklahoma City Thunder'\n",
    "temp_df = df[df['TEAM_NAME'] == team]\n",
    "temp_df = temp_df.sort_values(by = ['GAME_DATE'])\n",
    "temp_df = temp_df.set_index('GAME_ID')\n",
    "temp_df = temp_df[[\n",
    "           'FGM', 'FGA', 'FG_PCT', 'FG3M',\n",
    "           'FG3A', 'FG3_PCT', 'FTM', 'FTA', 'FT_PCT', 'OREB', 'DREB', 'REB', 'AST',\n",
    "           'STL', 'BLK', 'TOV', 'PF', 'PTS', 'PLUS_MINUS']]\n",
    "final_stats_df = temp_df.rolling(5).mean().shift(periods = 1).iloc[5:]\n",
    "single_stats_arr = final_stats_df.to_numpy()\n",
    "all_stats_arr = np.empty((30, 77, 19))\n"
   ]
  },
  {
   "cell_type": "code",
   "execution_count": null,
   "id": "50021687-52ea-491a-95f2-5f24324663b0",
   "metadata": {},
   "outputs": [],
   "source": [
    "stats_calc_dict = {}\n",
    "descriptive_dict = {}\n",
    "all_stats_arr = np.empty((30, 77, 19))\n",
    "team = 'Oklahoma City Thunder'\n",
    "temp_df = df[df['TEAM_NAME'] == team]\n",
    "temp_df = temp_df.sort_values(by = ['GAME_DATE'])\n",
    "temp_df = temp_df.set_index('GAME_ID')\n",
    "key_data = temp_df[['TEAM_NAME', 'MATCHUP', 'WL']].iloc[5:]\n",
    "temp_df = temp_df[[\n",
    "           'FGM', 'FGA', 'FG_PCT', 'FG3M',\n",
    "           'FG3A', 'FG3_PCT', 'FTM', 'FTA', 'FT_PCT', 'OREB', 'DREB', 'REB', 'AST',\n",
    "           'STL', 'BLK', 'TOV', 'PF', 'PTS', 'PLUS_MINUS']]\n",
    "final_stats_df = temp_df.rolling(5).mean().shift(periods = 1).iloc[5:]\n",
    "single_stats_arr = final_stats_df.to_numpy()\n",
    "all_stats_arr[0] = single_stats_arr\n",
    "        \n",
    "final_organized_stats = temp_df.rolling(5).mean().shift(periods = 1).iloc[5:]\n",
    "stats_with_key = pd.concat([final_organized_stats, key_data], axis = 1)"
   ]
  },
  {
   "cell_type": "code",
   "execution_count": null,
   "id": "a6d17829-ca60-41ef-94b6-b092a7639e7a",
   "metadata": {},
   "outputs": [],
   "source": [
    "all_teams_stats_df = pd.DataFrame()"
   ]
  },
  {
   "cell_type": "code",
   "execution_count": null,
   "id": "179a3b86-10e5-467b-aefa-324340e707ae",
   "metadata": {},
   "outputs": [],
   "source": [
    "all_teams_stats_df = pd.concat([all_teams_stats_df, stats_with_key], axis = 0)"
   ]
  },
  {
   "cell_type": "code",
   "execution_count": null,
   "id": "4886f462-8d3c-4de2-a240-ff19e50504de",
   "metadata": {},
   "outputs": [],
   "source": [
    "temp_df = df[df['TEAM_NAME'] == team]\n",
    "temp_df.head(10)"
   ]
  },
  {
   "cell_type": "code",
   "execution_count": null,
   "id": "e34f06e4-ecdc-4b5a-bade-d01e90c374e2",
   "metadata": {},
   "outputs": [],
   "source": [
    "stats_with_key"
   ]
  },
  {
   "cell_type": "code",
   "execution_count": null,
   "id": "1f803cf5-27b7-4c99-b4df-59f601d3b833",
   "metadata": {},
   "outputs": [],
   "source": [
    "final_organized_stats = temp_df.rolling(5).mean().shift(periods = 1).iloc[5:]"
   ]
  },
  {
   "cell_type": "code",
   "execution_count": null,
   "id": "30f933a1-8441-4dcb-9ae6-1954dbd4d78c",
   "metadata": {},
   "outputs": [],
   "source": [
    "final_organized_stats"
   ]
  },
  {
   "cell_type": "code",
   "execution_count": null,
   "id": "eb8530dc-343f-4ce2-8bd9-46c90fbde150",
   "metadata": {},
   "outputs": [],
   "source": [
    "final_stats_df.to_numpy().shape"
   ]
  },
  {
   "cell_type": "code",
   "execution_count": null,
   "id": "2b5504ce-f116-45a4-9857-cd771a697bba",
   "metadata": {},
   "outputs": [],
   "source": [
    "df.from_dict(dict2['Oklahoma City Thunder'], orient = 'index')"
   ]
  },
  {
   "cell_type": "code",
   "execution_count": null,
   "id": "952f2259-d39d-4835-b788-28bfa6f386df",
   "metadata": {},
   "outputs": [],
   "source": [
    "dict1, dict2 = generate_team_stats(df, teams)"
   ]
  },
  {
   "cell_type": "code",
   "execution_count": null,
   "id": "70c22d45-8c41-44a9-b555-da82cfa384ba",
   "metadata": {},
   "outputs": [],
   "source": [
    "dict2"
   ]
  },
  {
   "cell_type": "code",
   "execution_count": null,
   "id": "13ae71ce-ed43-4c76-ba65-8a4df26f9f94",
   "metadata": {},
   "outputs": [],
   "source": [
    "temp_df = df[df['TEAM_NAME'] == 'Oklahoma City Thunder']"
   ]
  },
  {
   "cell_type": "code",
   "execution_count": null,
   "id": "b4ad6840-0ef0-48ac-ae2e-9ced9fae9fbd",
   "metadata": {},
   "outputs": [],
   "source": [
    "temp_df = temp_df.set_index('GAME_ID')"
   ]
  },
  {
   "cell_type": "code",
   "execution_count": null,
   "id": "22442475-837a-4100-b49e-5d3263ac9c0b",
   "metadata": {},
   "outputs": [],
   "source": [
    "game_ids = temp_df['GAME_ID']"
   ]
  },
  {
   "cell_type": "code",
   "execution_count": null,
   "id": "0a2a06c4-539a-45df-bc07-0e2a0504b5d0",
   "metadata": {},
   "outputs": [],
   "source": [
    "temp_df = temp_df[[\n",
    "           'FGM', 'FGA', 'FG_PCT', 'FG3M',\n",
    "           'FG3A', 'FG3_PCT', 'FTM', 'FTA', 'FT_PCT', 'OREB', 'DREB', 'REB', 'AST',\n",
    "           'STL', 'BLK', 'TOV', 'PF', 'PTS', 'PLUS_MINUS']]\n",
    "temp_df.rolling(5).mean().shift(periods = 1).iloc[5:]"
   ]
  },
  {
   "cell_type": "code",
   "execution_count": null,
   "id": "ba690742-b562-4278-b81d-00da7338d44e",
   "metadata": {},
   "outputs": [],
   "source": [
    "game_ids.shift(periods = 5).iloc[5:]"
   ]
  },
  {
   "cell_type": "code",
   "execution_count": null,
   "id": "940568e2-699a-46c9-91d4-f973ddef215a",
   "metadata": {},
   "outputs": [],
   "source": [
    "temp_df = temp_df.sort_values(by = ['GAME_DATE'])"
   ]
  },
  {
   "cell_type": "code",
   "execution_count": null,
   "id": "ee17df63-0735-44af-adfa-74e029d4b6e2",
   "metadata": {},
   "outputs": [],
   "source": [
    "temp_df = temp_df[[\n",
    "       'FGM', 'FGA', 'FG_PCT', 'FG3M',\n",
    "       'FG3A', 'FG3_PCT', 'FTM', 'FTA', 'FT_PCT', 'OREB', 'DREB', 'REB', 'AST',\n",
    "       'STL', 'BLK', 'TOV', 'PF', 'PTS', 'PLUS_MINUS']]"
   ]
  },
  {
   "cell_type": "code",
   "execution_count": null,
   "id": "248c9029-113c-4968-bb0b-3723e95e1d2c",
   "metadata": {},
   "outputs": [],
   "source": [
    "temp_df.rolling(5).mean().shift(periods = 1).tail(10)"
   ]
  },
  {
   "cell_type": "code",
   "execution_count": null,
   "id": "040769d4-f77d-4d6a-ae32-b209b47b26d1",
   "metadata": {},
   "outputs": [],
   "source": [
    "df.head(5)"
   ]
  },
  {
   "cell_type": "code",
   "execution_count": null,
   "id": "85e463bd-2f7a-4953-a1f6-9a4f075fd285",
   "metadata": {},
   "outputs": [],
   "source": [
    "#Split data frames into home and away teams\n",
    "home_df = df[df['MATCHUP'].str.contains(\"vs.\")]\n",
    "away_df = df[df['MATCHUP'].str.contains(\"@\")]"
   ]
  },
  {
   "cell_type": "code",
   "execution_count": null,
   "id": "f95b216a-b60a-45f3-b11a-95e4b9e772ae",
   "metadata": {},
   "outputs": [],
   "source": [
    "merged = home_df.merge(away_df, on = \"GAME_ID\",suffixes = (\"_H\", \"_A\"))"
   ]
  },
  {
   "cell_type": "code",
   "execution_count": null,
   "id": "c724d213-ba88-4b94-aa75-cb2bca504042",
   "metadata": {},
   "outputs": [],
   "source": [
    "merged"
   ]
  },
  {
   "cell_type": "code",
   "execution_count": null,
   "id": "a7b663d2-0214-4345-9c23-36721e32971c",
   "metadata": {},
   "outputs": [],
   "source": [
    "#make list of all team names, for loop filter by team n times, and make the rolling dict values?\n",
    "# Can then go in and replace values/make new df with the normalized vals"
   ]
  },
  {
   "cell_type": "code",
   "execution_count": null,
   "id": "1e3dcbe7-0b98-48ca-b4dc-2b4215919b4a",
   "metadata": {},
   "outputs": [],
   "source": []
  }
 ],
 "metadata": {
  "kernelspec": {
   "display_name": "Python 3 (ipykernel)",
   "language": "python",
   "name": "python3"
  },
  "language_info": {
   "codemirror_mode": {
    "name": "ipython",
    "version": 3
   },
   "file_extension": ".py",
   "mimetype": "text/x-python",
   "name": "python",
   "nbconvert_exporter": "python",
   "pygments_lexer": "ipython3",
   "version": "3.9.6"
  }
 },
 "nbformat": 4,
 "nbformat_minor": 5
}
