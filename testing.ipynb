{
 "cells": [
  {
   "cell_type": "code",
   "execution_count": null,
   "id": "4c6e285b-9ae4-48d2-94e9-ed05918f6c1f",
   "metadata": {},
   "outputs": [],
   "source": [
    "#Keep relevant variables\n",
    "df = df[['TEAM_ID', 'TEAM_ABBREVIATION', 'TEAM_NAME', 'GAME_ID',\n",
    "       'GAME_DATE', 'MATCHUP', 'WL', 'MIN', 'FGM', 'FGA', 'FG_PCT', 'FG3M',\n",
    "       'FG3A', 'FG3_PCT', 'FTM', 'FTA', 'FT_PCT', 'OREB', 'DREB', 'REB', 'AST',\n",
    "       'STL', 'BLK', 'TOV', 'PF', 'PTS', 'PLUS_MINUS']]"
   ]
  },
  {
   "cell_type": "code",
   "execution_count": 1,
   "id": "71dbaa1c-5eab-4319-9bb6-be4a737e6b5b",
   "metadata": {},
   "outputs": [],
   "source": [
    "from nba_api.stats.endpoints import leaguegamelog\n",
    "import pandas as pd\n",
    "import numpy as np"
   ]
  },
  {
   "cell_type": "code",
   "execution_count": 2,
   "id": "85c83cee-a186-4e13-9253-ec61bd65dcc9",
   "metadata": {},
   "outputs": [],
   "source": [
    "games = leaguegamelog.LeagueGameLog(season = '2018')"
   ]
  },
  {
   "cell_type": "code",
   "execution_count": 3,
   "id": "f8b43ca7-4ede-4a82-95f9-493d866eb3c4",
   "metadata": {},
   "outputs": [],
   "source": [
    "df = pd.DataFrame(games.get_data_frames()[0])"
   ]
  },
  {
   "cell_type": "code",
   "execution_count": 7,
   "id": "6b966d12-f9df-410a-87ca-c7fd4b883bd7",
   "metadata": {},
   "outputs": [],
   "source": [
    "teams = df['TEAM_NAME'].unique()"
   ]
  },
  {
   "cell_type": "code",
   "execution_count": null,
   "id": "8273bb3e-a0fb-485a-a8c2-9a43233d936b",
   "metadata": {},
   "outputs": [],
   "source": [
    "teams"
   ]
  },
  {
   "cell_type": "code",
   "execution_count": null,
   "id": "c47effe1-f2dc-4f7d-94a9-a0108ca66b25",
   "metadata": {},
   "outputs": [],
   "source": [
    "merged = home_df.merge(away_df, on = \"GAME_ID\",suffixes = (\"_H\", \"_A\"))"
   ]
  },
  {
   "cell_type": "code",
   "execution_count": null,
   "id": "cf902266-7842-421a-acdd-a0117b8d1790",
   "metadata": {},
   "outputs": [],
   "source": [
    "merged = merged.sort_values(by = ['GAME_DATE'])"
   ]
  },
  {
   "cell_type": "code",
   "execution_count": 4,
   "id": "a073fba3-76e4-4b96-a4d2-ba591a8ffb2b",
   "metadata": {},
   "outputs": [],
   "source": [
    "#Can use this to get means and standard deviations\n",
    "def generate_game_stats(game_df, teams): \n",
    "    #all_stats_arr = np.empty((30, 77, 19))\n",
    "    all_teams_stats_df = pd.DataFrame()\n",
    "    for i, team in enumerate(teams):\n",
    "        temp_df = df[df['TEAM_NAME'] == team]\n",
    "        temp_df = temp_df.sort_values(by = ['GAME_DATE'])\n",
    "        temp_df = temp_df.set_index('GAME_ID')\n",
    "        key_data = temp_df[['GAME_DATE', 'TEAM_NAME', 'MATCHUP', 'WL']].iloc[5:]\n",
    "        temp_df = temp_df[[\n",
    "           'FGM', 'FGA', 'FG_PCT', 'FG3M',\n",
    "           'FG3A', 'FG3_PCT', 'FTM', 'FTA', 'FT_PCT', 'OREB', 'DREB', 'REB', 'AST',\n",
    "           'STL', 'BLK', 'TOV', 'PF', 'PTS', 'PLUS_MINUS']]\n",
    "        #final_stats_df = temp_df.rolling(5).mean().shift(periods = 1).iloc[5:]#.to_dict('list')\n",
    "        #single_stats_arr = final_stats_df.to_numpy()\n",
    "        #all_stats_arr[i] = single_stats_arr\n",
    "        \n",
    "        final_organized_stats = temp_df.rolling(5).mean().shift(periods = 1).iloc[5:]#.to_dict('index')\n",
    "        stats_with_key = pd.concat([final_organized_stats, key_data], axis = 1)\n",
    "     \n",
    "        all_teams_stats_df = pd.concat([all_teams_stats_df, stats_with_key], axis = 0)\n",
    "        \n",
    "    home_df = all_teams_stats_df[all_teams_stats_df['MATCHUP'].str.contains(\"vs.\")]\n",
    "    away_df = all_teams_stats_df[all_teams_stats_df['MATCHUP'].str.contains(\"@\")]\n",
    "    merged_game_stats_df = home_df.merge(away_df, on = \"GAME_ID\",suffixes = (\"_H\", \"_A\"))\n",
    "    merged_game_stats_df = merged_game_stats_df.sort_values(by = ['GAME_DATE_H'])\n",
    "      \n",
    "    return merged_game_stats_df"
   ]
  },
  {
   "cell_type": "code",
   "execution_count": 5,
   "id": "4720cefa-b177-4efc-99df-3fce22dea1b5",
   "metadata": {},
   "outputs": [],
   "source": [
    "#Function to get population mean and standard deviations - might be stupid but I think it makes sense\n",
    "#Make sure to use this on train and test set separately \n",
    "#After this, make these stats for each game their own matrices, so I could do (game_matrix - mean_matrix / std_matrix)\n",
    "def generate_population_statistics(stats_df):\n",
    "    game_means = np.empty((stats_df.shape[0], 19))\n",
    "    game_stds = np.empty((stats_df.shape[0], 19))\n",
    "    for i in range(stats_df.shape[0]):\n",
    "        team_dict = {}\n",
    "        pop_stats_arr = np.empty((30, 19))\n",
    "        it1 = i\n",
    "        it2 = i+1\n",
    "        team_it = 0\n",
    "             \n",
    "        while len(team_dict.keys()) < 30:\n",
    "            if it1 >= 0:\n",
    "                if stats_df.iloc[it1]['TEAM_NAME_H'] not in team_dict.keys():  \n",
    "                    team_dict[stats_df.iloc[it1]['TEAM_NAME_H']] = ''\n",
    "                    \n",
    "                    pop_stats_arr[team_it] = stats_df.iloc[it1][['FGM_H', 'FGA_H', 'FG_PCT_H', 'FG3M_H', 'FG3A_H', 'FG3_PCT_H', 'FTM_H',\n",
    "                   'FTA_H', 'FT_PCT_H', 'OREB_H', 'DREB_H', 'REB_H', 'AST_H', 'STL_H',\n",
    "                   'BLK_H', 'TOV_H', 'PF_H', 'PTS_H', 'PLUS_MINUS_H']].to_numpy()\n",
    "                    team_it += 1\n",
    "                    \n",
    "                if stats_df.iloc[it1]['TEAM_NAME_A'] not in team_dict.keys():\n",
    "                    team_dict[stats_df.iloc[it1]['TEAM_NAME_A']] = ''\n",
    "                    \n",
    "                    pop_stats_arr[team_it] = stats_df.iloc[it1][['FGM_A', 'FGA_A', 'FG_PCT_A',\n",
    "                   'FG3M_A', 'FG3A_A', 'FG3_PCT_A', 'FTM_A', 'FTA_A', 'FT_PCT_A', 'OREB_A',\n",
    "                   'DREB_A', 'REB_A', 'AST_A', 'STL_A', 'BLK_A', 'TOV_A', 'PF_A', 'PTS_A',\n",
    "                   'PLUS_MINUS_A']].to_numpy()\n",
    "                    team_it += 1\n",
    "                    \n",
    "                it1 -= 1    \n",
    "                           \n",
    "            if it2 < stats_df.shape[0]:\n",
    "                if stats_df.iloc[it2]['TEAM_NAME_H'] not in team_dict.keys():  \n",
    "                    team_dict[stats_df.iloc[it2]['TEAM_NAME_H']] = ''\n",
    "                    \n",
    "                    pop_stats_arr[team_it] = stats_df.iloc[it2][['FGM_H', 'FGA_H', 'FG_PCT_H', 'FG3M_H', 'FG3A_H', 'FG3_PCT_H', 'FTM_H',\n",
    "                   'FTA_H', 'FT_PCT_H', 'OREB_H', 'DREB_H', 'REB_H', 'AST_H', 'STL_H',\n",
    "                   'BLK_H', 'TOV_H', 'PF_H', 'PTS_H', 'PLUS_MINUS_H']].to_numpy()\n",
    "                    team_it += 1\n",
    "                    \n",
    "                if stats_df.iloc[it2]['TEAM_NAME_A'] not in team_dict.keys():\n",
    "                    team_dict[stats_df.iloc[it2]['TEAM_NAME_A']] = ''\n",
    "                    \n",
    "                    pop_stats_arr[team_it] = stats_df.iloc[it2][['FGM_A', 'FGA_A', 'FG_PCT_A',\n",
    "                   'FG3M_A', 'FG3A_A', 'FG3_PCT_A', 'FTM_A', 'FTA_A', 'FT_PCT_A', 'OREB_A',\n",
    "                   'DREB_A', 'REB_A', 'AST_A', 'STL_A', 'BLK_A', 'TOV_A', 'PF_A', 'PTS_A',\n",
    "                   'PLUS_MINUS_A']].to_numpy()\n",
    "                    team_it += 1\n",
    "                    \n",
    "                it2 += 1\n",
    "                \n",
    "        mean_stats = np.mean(pop_stats_arr, axis = 0)        \n",
    "        std_stats = np.std(pop_stats_arr, axis = 0)\n",
    "        \n",
    "        game_means[i] = mean_stats\n",
    "        game_stds[i] = std_stats\n",
    "        \n",
    "    return game_means, game_stds    \n",
    "    "
   ]
  },
  {
   "cell_type": "code",
   "execution_count": 117,
   "id": "7b22bca0-dd60-402f-be37-ef26abc1412b",
   "metadata": {},
   "outputs": [],
   "source": [
    "#Function to get z scores and finalize attributes as (Home minus Away)\n",
    "def normalize_and_standardize(stats_df, game_means, game_stds):\n",
    "   \n",
    "    home_stats = np.empty((stats_df.shape[0], 19))\n",
    "    away_stats = np.empty((stats_df.shape[0], 19))\n",
    "    \n",
    "    home_stats = stats_df.iloc[:, 0:19]\n",
    "    away_stats = stats_df.iloc[:, 23:42]\n",
    "    win_loss_home = stats_df.iloc[:, 22]\n",
    "    matchup = stats_df.iloc[:, [43, 20]]\n",
    "    \n",
    "    #standardize home and away stats \n",
    "    home_z = np.divide((home_stats - game_means), game_stds)\n",
    "    \n",
    "    away_z = np.divide((away_stats - game_means), game_stds)\n",
    "    \n",
    "    final = np.subtract(home_z, away_z)\n",
    "    \n",
    "    final = pd.DataFrame(final)\n",
    "\n",
    "    final = pd.concat([final, win_loss_home], axis = 1)\n",
    "    \n",
    "    return final, matchup"
   ]
  },
  {
   "cell_type": "code",
   "execution_count": 8,
   "id": "ea10d240-3799-4289-a8e5-4421d9c17083",
   "metadata": {},
   "outputs": [],
   "source": [
    "stats_df = generate_game_stats(df, teams)"
   ]
  },
  {
   "cell_type": "code",
   "execution_count": 112,
   "id": "157832dd-8761-41ed-af40-2d36974f4701",
   "metadata": {},
   "outputs": [
    {
     "data": {
      "text/html": [
       "<div>\n",
       "<style scoped>\n",
       "    .dataframe tbody tr th:only-of-type {\n",
       "        vertical-align: middle;\n",
       "    }\n",
       "\n",
       "    .dataframe tbody tr th {\n",
       "        vertical-align: top;\n",
       "    }\n",
       "\n",
       "    .dataframe thead th {\n",
       "        text-align: right;\n",
       "    }\n",
       "</style>\n",
       "<table border=\"1\" class=\"dataframe\">\n",
       "  <thead>\n",
       "    <tr style=\"text-align: right;\">\n",
       "      <th></th>\n",
       "      <th>TEAM_NAME_H</th>\n",
       "      <th>TEAM_NAME_A</th>\n",
       "    </tr>\n",
       "    <tr>\n",
       "      <th>GAME_ID</th>\n",
       "      <th></th>\n",
       "      <th></th>\n",
       "    </tr>\n",
       "  </thead>\n",
       "  <tbody>\n",
       "    <tr>\n",
       "      <th>0021800068</th>\n",
       "      <td>New York Knicks</td>\n",
       "      <td>Golden State Warriors</td>\n",
       "    </tr>\n",
       "    <tr>\n",
       "      <th>0021800078</th>\n",
       "      <td>Philadelphia 76ers</td>\n",
       "      <td>Charlotte Hornets</td>\n",
       "    </tr>\n",
       "    <tr>\n",
       "      <th>0021800077</th>\n",
       "      <td>Cleveland Cavaliers</td>\n",
       "      <td>Indiana Pacers</td>\n",
       "    </tr>\n",
       "    <tr>\n",
       "      <th>0021800081</th>\n",
       "      <td>Milwaukee Bucks</td>\n",
       "      <td>Orlando Magic</td>\n",
       "    </tr>\n",
       "    <tr>\n",
       "      <th>0021800084</th>\n",
       "      <td>Dallas Mavericks</td>\n",
       "      <td>Utah Jazz</td>\n",
       "    </tr>\n",
       "    <tr>\n",
       "      <th>...</th>\n",
       "      <td>...</td>\n",
       "      <td>...</td>\n",
       "    </tr>\n",
       "    <tr>\n",
       "      <th>0021801225</th>\n",
       "      <td>Memphis Grizzlies</td>\n",
       "      <td>Golden State Warriors</td>\n",
       "    </tr>\n",
       "    <tr>\n",
       "      <th>0021801228</th>\n",
       "      <td>Denver Nuggets</td>\n",
       "      <td>Minnesota Timberwolves</td>\n",
       "    </tr>\n",
       "    <tr>\n",
       "      <th>0021801224</th>\n",
       "      <td>Philadelphia 76ers</td>\n",
       "      <td>Chicago Bulls</td>\n",
       "    </tr>\n",
       "    <tr>\n",
       "      <th>0021801229</th>\n",
       "      <td>LA Clippers</td>\n",
       "      <td>Utah Jazz</td>\n",
       "    </tr>\n",
       "    <tr>\n",
       "      <th>0021801222</th>\n",
       "      <td>Charlotte Hornets</td>\n",
       "      <td>Orlando Magic</td>\n",
       "    </tr>\n",
       "  </tbody>\n",
       "</table>\n",
       "<p>1151 rows × 2 columns</p>\n",
       "</div>"
      ],
      "text/plain": [
       "                    TEAM_NAME_H             TEAM_NAME_A\n",
       "GAME_ID                                                \n",
       "0021800068      New York Knicks   Golden State Warriors\n",
       "0021800078   Philadelphia 76ers       Charlotte Hornets\n",
       "0021800077  Cleveland Cavaliers          Indiana Pacers\n",
       "0021800081      Milwaukee Bucks           Orlando Magic\n",
       "0021800084     Dallas Mavericks               Utah Jazz\n",
       "...                         ...                     ...\n",
       "0021801225    Memphis Grizzlies   Golden State Warriors\n",
       "0021801228       Denver Nuggets  Minnesota Timberwolves\n",
       "0021801224   Philadelphia 76ers           Chicago Bulls\n",
       "0021801229          LA Clippers               Utah Jazz\n",
       "0021801222    Charlotte Hornets           Orlando Magic\n",
       "\n",
       "[1151 rows x 2 columns]"
      ]
     },
     "execution_count": 112,
     "metadata": {},
     "output_type": "execute_result"
    }
   ],
   "source": [
    "stats_df.iloc[:, [20,43]]"
   ]
  },
  {
   "cell_type": "code",
   "execution_count": 18,
   "id": "55384965-a5db-45d8-9618-1d98fda994ce",
   "metadata": {},
   "outputs": [
    {
     "data": {
      "text/plain": [
       "Index(['FGM_H', 'FGA_H', 'FG_PCT_H', 'FG3M_H', 'FG3A_H', 'FG3_PCT_H', 'FTM_H',\n",
       "       'FTA_H', 'FT_PCT_H', 'OREB_H', 'DREB_H', 'REB_H', 'AST_H', 'STL_H',\n",
       "       'BLK_H', 'TOV_H', 'PF_H', 'PTS_H', 'PLUS_MINUS_H', 'GAME_DATE_H',\n",
       "       'TEAM_NAME_H', 'MATCHUP_H', 'WL_H', 'FGM_A', 'FGA_A', 'FG_PCT_A',\n",
       "       'FG3M_A', 'FG3A_A', 'FG3_PCT_A', 'FTM_A', 'FTA_A', 'FT_PCT_A', 'OREB_A',\n",
       "       'DREB_A', 'REB_A', 'AST_A', 'STL_A', 'BLK_A', 'TOV_A', 'PF_A', 'PTS_A',\n",
       "       'PLUS_MINUS_A', 'GAME_DATE_A', 'TEAM_NAME_A', 'MATCHUP_A', 'WL_A'],\n",
       "      dtype='object')"
      ]
     },
     "execution_count": 18,
     "metadata": {},
     "output_type": "execute_result"
    }
   ],
   "source": [
    "stats_df.columns"
   ]
  },
  {
   "cell_type": "code",
   "execution_count": 11,
   "id": "950da2f6-ccf9-420c-a6cf-f17df998b148",
   "metadata": {},
   "outputs": [],
   "source": [
    "game_means, game_stds = generate_population_statistics(stats_df)"
   ]
  },
  {
   "cell_type": "code",
   "execution_count": 12,
   "id": "ba2bbee7-0f85-4f10-a6a7-e89a19eabed1",
   "metadata": {},
   "outputs": [
    {
     "data": {
      "text/plain": [
       "array([[ 4.11000000e+01,  9.03400000e+01,  4.55646667e-01, ...,\n",
       "         2.26533333e+01,  1.12140000e+02, -8.00000000e-02],\n",
       "       [ 4.11000000e+01,  9.03400000e+01,  4.55646667e-01, ...,\n",
       "         2.26533333e+01,  1.12140000e+02, -8.00000000e-02],\n",
       "       [ 4.11000000e+01,  9.03400000e+01,  4.55646667e-01, ...,\n",
       "         2.26533333e+01,  1.12140000e+02, -8.00000000e-02],\n",
       "       ...,\n",
       "       [ 4.23333333e+01,  9.05266667e+01,  4.68820000e-01, ...,\n",
       "         1.94400000e+01,  1.13126667e+02,  2.53333333e-01],\n",
       "       [ 4.23333333e+01,  9.05266667e+01,  4.68820000e-01, ...,\n",
       "         1.94400000e+01,  1.13126667e+02,  2.53333333e-01],\n",
       "       [ 4.23333333e+01,  9.05266667e+01,  4.68820000e-01, ...,\n",
       "         1.94400000e+01,  1.13126667e+02,  2.53333333e-01]])"
      ]
     },
     "execution_count": 12,
     "metadata": {},
     "output_type": "execute_result"
    }
   ],
   "source": [
    "game_means"
   ]
  },
  {
   "cell_type": "code",
   "execution_count": 118,
   "id": "5228ed32-4479-49e7-903b-eeb33d7a8452",
   "metadata": {},
   "outputs": [
    {
     "name": "stderr",
     "output_type": "stream",
     "text": [
      "C:\\Users\\batar\\AppData\\Local\\Temp\\ipykernel_8300\\1595565284.py:17: FutureWarning: Calling a ufunc on non-aligned DataFrames (or DataFrame/Series combination). Currently, the indices are ignored and the result takes the index/columns of the first DataFrame. In the future , the DataFrames/Series will be aligned before applying the ufunc.\n",
      "Convert one of the arguments to a NumPy array (eg 'ufunc(df1, np.asarray(df2)') to keep the current behaviour, or align manually (eg 'df1, df2 = df1.align(df2)') before passing to the ufunc to obtain the future behaviour and silence this warning.\n",
      "  final = np.subtract(home_z, away_z)\n"
     ]
    }
   ],
   "source": [
    "final, matchup = normalize_and_standardize(stats_df, game_means, game_stds)"
   ]
  },
  {
   "cell_type": "code",
   "execution_count": 119,
   "id": "7bd04669-e1ff-4660-94e1-f3afec8696d4",
   "metadata": {},
   "outputs": [
    {
     "data": {
      "text/html": [
       "<div>\n",
       "<style scoped>\n",
       "    .dataframe tbody tr th:only-of-type {\n",
       "        vertical-align: middle;\n",
       "    }\n",
       "\n",
       "    .dataframe tbody tr th {\n",
       "        vertical-align: top;\n",
       "    }\n",
       "\n",
       "    .dataframe thead th {\n",
       "        text-align: right;\n",
       "    }\n",
       "</style>\n",
       "<table border=\"1\" class=\"dataframe\">\n",
       "  <thead>\n",
       "    <tr style=\"text-align: right;\">\n",
       "      <th></th>\n",
       "      <th>TEAM_NAME_A</th>\n",
       "      <th>TEAM_NAME_H</th>\n",
       "    </tr>\n",
       "    <tr>\n",
       "      <th>GAME_ID</th>\n",
       "      <th></th>\n",
       "      <th></th>\n",
       "    </tr>\n",
       "  </thead>\n",
       "  <tbody>\n",
       "    <tr>\n",
       "      <th>0021800068</th>\n",
       "      <td>Golden State Warriors</td>\n",
       "      <td>New York Knicks</td>\n",
       "    </tr>\n",
       "    <tr>\n",
       "      <th>0021800078</th>\n",
       "      <td>Charlotte Hornets</td>\n",
       "      <td>Philadelphia 76ers</td>\n",
       "    </tr>\n",
       "    <tr>\n",
       "      <th>0021800077</th>\n",
       "      <td>Indiana Pacers</td>\n",
       "      <td>Cleveland Cavaliers</td>\n",
       "    </tr>\n",
       "    <tr>\n",
       "      <th>0021800081</th>\n",
       "      <td>Orlando Magic</td>\n",
       "      <td>Milwaukee Bucks</td>\n",
       "    </tr>\n",
       "    <tr>\n",
       "      <th>0021800084</th>\n",
       "      <td>Utah Jazz</td>\n",
       "      <td>Dallas Mavericks</td>\n",
       "    </tr>\n",
       "    <tr>\n",
       "      <th>...</th>\n",
       "      <td>...</td>\n",
       "      <td>...</td>\n",
       "    </tr>\n",
       "    <tr>\n",
       "      <th>0021801225</th>\n",
       "      <td>Golden State Warriors</td>\n",
       "      <td>Memphis Grizzlies</td>\n",
       "    </tr>\n",
       "    <tr>\n",
       "      <th>0021801228</th>\n",
       "      <td>Minnesota Timberwolves</td>\n",
       "      <td>Denver Nuggets</td>\n",
       "    </tr>\n",
       "    <tr>\n",
       "      <th>0021801224</th>\n",
       "      <td>Chicago Bulls</td>\n",
       "      <td>Philadelphia 76ers</td>\n",
       "    </tr>\n",
       "    <tr>\n",
       "      <th>0021801229</th>\n",
       "      <td>Utah Jazz</td>\n",
       "      <td>LA Clippers</td>\n",
       "    </tr>\n",
       "    <tr>\n",
       "      <th>0021801222</th>\n",
       "      <td>Orlando Magic</td>\n",
       "      <td>Charlotte Hornets</td>\n",
       "    </tr>\n",
       "  </tbody>\n",
       "</table>\n",
       "<p>1151 rows × 2 columns</p>\n",
       "</div>"
      ],
      "text/plain": [
       "                       TEAM_NAME_A          TEAM_NAME_H\n",
       "GAME_ID                                                \n",
       "0021800068   Golden State Warriors      New York Knicks\n",
       "0021800078       Charlotte Hornets   Philadelphia 76ers\n",
       "0021800077          Indiana Pacers  Cleveland Cavaliers\n",
       "0021800081           Orlando Magic      Milwaukee Bucks\n",
       "0021800084               Utah Jazz     Dallas Mavericks\n",
       "...                            ...                  ...\n",
       "0021801225   Golden State Warriors    Memphis Grizzlies\n",
       "0021801228  Minnesota Timberwolves       Denver Nuggets\n",
       "0021801224           Chicago Bulls   Philadelphia 76ers\n",
       "0021801229               Utah Jazz          LA Clippers\n",
       "0021801222           Orlando Magic    Charlotte Hornets\n",
       "\n",
       "[1151 rows x 2 columns]"
      ]
     },
     "execution_count": 119,
     "metadata": {},
     "output_type": "execute_result"
    }
   ],
   "source": [
    "matchup"
   ]
  },
  {
   "cell_type": "code",
   "execution_count": null,
   "id": "7bef1b17-44ae-47ab-b008-2933fe069a09",
   "metadata": {},
   "outputs": [],
   "source": [
    "stats_arr"
   ]
  },
  {
   "cell_type": "code",
   "execution_count": null,
   "id": "6f96e50c-7322-4797-8bdc-9362d9cf9d55",
   "metadata": {},
   "outputs": [],
   "source": [
    "#Function to flatten stats dict and find averages. Would show average and std dev. of team atttributes for 5th, \n",
    "# 6th... 82nd game\n",
    "\n",
    "num_teams = teams.size"
   ]
  },
  {
   "cell_type": "code",
   "execution_count": null,
   "id": "0fb4171e-5728-4abc-bcb4-e580e32f0781",
   "metadata": {},
   "outputs": [],
   "source": [
    "#test\n",
    "team = 'Oklahoma City Thunder'\n",
    "temp_df = df[df['TEAM_NAME'] == team]\n",
    "temp_df = temp_df.sort_values(by = ['GAME_DATE'])\n",
    "temp_df = temp_df.set_index('GAME_ID')\n",
    "temp_df = temp_df[[\n",
    "           'FGM', 'FGA', 'FG_PCT', 'FG3M',\n",
    "           'FG3A', 'FG3_PCT', 'FTM', 'FTA', 'FT_PCT', 'OREB', 'DREB', 'REB', 'AST',\n",
    "           'STL', 'BLK', 'TOV', 'PF', 'PTS', 'PLUS_MINUS']]\n",
    "final_stats_df = temp_df.rolling(5).mean().shift(periods = 1).iloc[5:]\n",
    "single_stats_arr = final_stats_df.to_numpy()\n",
    "all_stats_arr = np.empty((30, 77, 19))\n"
   ]
  },
  {
   "cell_type": "code",
   "execution_count": null,
   "id": "50021687-52ea-491a-95f2-5f24324663b0",
   "metadata": {},
   "outputs": [],
   "source": [
    "stats_calc_dict = {}\n",
    "descriptive_dict = {}\n",
    "all_stats_arr = np.empty((30, 77, 19))\n",
    "team = 'Oklahoma City Thunder'\n",
    "temp_df = df[df['TEAM_NAME'] == team]\n",
    "temp_df = temp_df.sort_values(by = ['GAME_DATE'])\n",
    "temp_df = temp_df.set_index('GAME_ID')\n",
    "key_data = temp_df[['TEAM_NAME', 'MATCHUP', 'WL']].iloc[5:]\n",
    "temp_df = temp_df[[\n",
    "           'FGM', 'FGA', 'FG_PCT', 'FG3M',\n",
    "           'FG3A', 'FG3_PCT', 'FTM', 'FTA', 'FT_PCT', 'OREB', 'DREB', 'REB', 'AST',\n",
    "           'STL', 'BLK', 'TOV', 'PF', 'PTS', 'PLUS_MINUS']]\n",
    "final_stats_df = temp_df.rolling(5).mean().shift(periods = 1).iloc[5:]\n",
    "single_stats_arr = final_stats_df.to_numpy()\n",
    "all_stats_arr[0] = single_stats_arr\n",
    "        \n",
    "final_organized_stats = temp_df.rolling(5).mean().shift(periods = 1).iloc[5:]\n",
    "stats_with_key = pd.concat([final_organized_stats, key_data], axis = 1)"
   ]
  },
  {
   "cell_type": "code",
   "execution_count": null,
   "id": "a6d17829-ca60-41ef-94b6-b092a7639e7a",
   "metadata": {},
   "outputs": [],
   "source": [
    "all_teams_stats_df = pd.DataFrame()"
   ]
  },
  {
   "cell_type": "code",
   "execution_count": null,
   "id": "179a3b86-10e5-467b-aefa-324340e707ae",
   "metadata": {},
   "outputs": [],
   "source": [
    "all_teams_stats_df = pd.concat([all_teams_stats_df, stats_with_key], axis = 0)"
   ]
  },
  {
   "cell_type": "code",
   "execution_count": null,
   "id": "4886f462-8d3c-4de2-a240-ff19e50504de",
   "metadata": {},
   "outputs": [],
   "source": [
    "temp_df = df[df['TEAM_NAME'] == team]\n",
    "temp_df.head(10)"
   ]
  },
  {
   "cell_type": "code",
   "execution_count": null,
   "id": "e34f06e4-ecdc-4b5a-bade-d01e90c374e2",
   "metadata": {},
   "outputs": [],
   "source": [
    "stats_with_key"
   ]
  },
  {
   "cell_type": "code",
   "execution_count": null,
   "id": "1f803cf5-27b7-4c99-b4df-59f601d3b833",
   "metadata": {},
   "outputs": [],
   "source": [
    "final_organized_stats = temp_df.rolling(5).mean().shift(periods = 1).iloc[5:]"
   ]
  },
  {
   "cell_type": "code",
   "execution_count": null,
   "id": "30f933a1-8441-4dcb-9ae6-1954dbd4d78c",
   "metadata": {},
   "outputs": [],
   "source": [
    "final_organized_stats"
   ]
  },
  {
   "cell_type": "code",
   "execution_count": null,
   "id": "eb8530dc-343f-4ce2-8bd9-46c90fbde150",
   "metadata": {},
   "outputs": [],
   "source": [
    "final_stats_df.to_numpy().shape"
   ]
  },
  {
   "cell_type": "code",
   "execution_count": null,
   "id": "2b5504ce-f116-45a4-9857-cd771a697bba",
   "metadata": {},
   "outputs": [],
   "source": [
    "df.from_dict(dict2['Oklahoma City Thunder'], orient = 'index')"
   ]
  },
  {
   "cell_type": "code",
   "execution_count": null,
   "id": "952f2259-d39d-4835-b788-28bfa6f386df",
   "metadata": {},
   "outputs": [],
   "source": [
    "dict1, dict2 = generate_team_stats(df, teams)"
   ]
  },
  {
   "cell_type": "code",
   "execution_count": null,
   "id": "70c22d45-8c41-44a9-b555-da82cfa384ba",
   "metadata": {},
   "outputs": [],
   "source": [
    "dict2"
   ]
  },
  {
   "cell_type": "code",
   "execution_count": null,
   "id": "13ae71ce-ed43-4c76-ba65-8a4df26f9f94",
   "metadata": {},
   "outputs": [],
   "source": [
    "temp_df = df[df['TEAM_NAME'] == 'Oklahoma City Thunder']"
   ]
  },
  {
   "cell_type": "code",
   "execution_count": null,
   "id": "b4ad6840-0ef0-48ac-ae2e-9ced9fae9fbd",
   "metadata": {},
   "outputs": [],
   "source": [
    "temp_df = temp_df.set_index('GAME_ID')"
   ]
  },
  {
   "cell_type": "code",
   "execution_count": null,
   "id": "22442475-837a-4100-b49e-5d3263ac9c0b",
   "metadata": {},
   "outputs": [],
   "source": [
    "game_ids = temp_df['GAME_ID']"
   ]
  },
  {
   "cell_type": "code",
   "execution_count": null,
   "id": "0a2a06c4-539a-45df-bc07-0e2a0504b5d0",
   "metadata": {},
   "outputs": [],
   "source": [
    "temp_df = temp_df[[\n",
    "           'FGM', 'FGA', 'FG_PCT', 'FG3M',\n",
    "           'FG3A', 'FG3_PCT', 'FTM', 'FTA', 'FT_PCT', 'OREB', 'DREB', 'REB', 'AST',\n",
    "           'STL', 'BLK', 'TOV', 'PF', 'PTS', 'PLUS_MINUS']]\n",
    "temp_df.rolling(5).mean().shift(periods = 1).iloc[5:]"
   ]
  },
  {
   "cell_type": "code",
   "execution_count": null,
   "id": "ba690742-b562-4278-b81d-00da7338d44e",
   "metadata": {},
   "outputs": [],
   "source": [
    "game_ids.shift(periods = 5).iloc[5:]"
   ]
  },
  {
   "cell_type": "code",
   "execution_count": null,
   "id": "940568e2-699a-46c9-91d4-f973ddef215a",
   "metadata": {},
   "outputs": [],
   "source": [
    "temp_df = temp_df.sort_values(by = ['GAME_DATE'])"
   ]
  },
  {
   "cell_type": "code",
   "execution_count": null,
   "id": "ee17df63-0735-44af-adfa-74e029d4b6e2",
   "metadata": {},
   "outputs": [],
   "source": [
    "temp_df = temp_df[[\n",
    "       'FGM', 'FGA', 'FG_PCT', 'FG3M',\n",
    "       'FG3A', 'FG3_PCT', 'FTM', 'FTA', 'FT_PCT', 'OREB', 'DREB', 'REB', 'AST',\n",
    "       'STL', 'BLK', 'TOV', 'PF', 'PTS', 'PLUS_MINUS']]"
   ]
  },
  {
   "cell_type": "code",
   "execution_count": null,
   "id": "248c9029-113c-4968-bb0b-3723e95e1d2c",
   "metadata": {},
   "outputs": [],
   "source": [
    "temp_df.rolling(5).mean().shift(periods = 1).tail(10)"
   ]
  },
  {
   "cell_type": "code",
   "execution_count": null,
   "id": "040769d4-f77d-4d6a-ae32-b209b47b26d1",
   "metadata": {},
   "outputs": [],
   "source": [
    "df.head(5)"
   ]
  },
  {
   "cell_type": "code",
   "execution_count": null,
   "id": "85e463bd-2f7a-4953-a1f6-9a4f075fd285",
   "metadata": {},
   "outputs": [],
   "source": [
    "#Split data frames into home and away teams\n",
    "home_df = df[df['MATCHUP'].str.contains(\"vs.\")]\n",
    "away_df = df[df['MATCHUP'].str.contains(\"@\")]"
   ]
  },
  {
   "cell_type": "code",
   "execution_count": null,
   "id": "f95b216a-b60a-45f3-b11a-95e4b9e772ae",
   "metadata": {},
   "outputs": [],
   "source": [
    "merged = home_df.merge(away_df, on = \"GAME_ID\",suffixes = (\"_H\", \"_A\"))"
   ]
  },
  {
   "cell_type": "code",
   "execution_count": null,
   "id": "c724d213-ba88-4b94-aa75-cb2bca504042",
   "metadata": {},
   "outputs": [],
   "source": [
    "merged"
   ]
  },
  {
   "cell_type": "code",
   "execution_count": null,
   "id": "a7b663d2-0214-4345-9c23-36721e32971c",
   "metadata": {},
   "outputs": [],
   "source": [
    "#make list of all team names, for loop filter by team n times, and make the rolling dict values?\n",
    "# Can then go in and replace values/make new df with the normalized vals"
   ]
  },
  {
   "cell_type": "code",
   "execution_count": null,
   "id": "1e3dcbe7-0b98-48ca-b4dc-2b4215919b4a",
   "metadata": {},
   "outputs": [],
   "source": []
  }
 ],
 "metadata": {
  "kernelspec": {
   "display_name": "Python 3 (ipykernel)",
   "language": "python",
   "name": "python3"
  },
  "language_info": {
   "codemirror_mode": {
    "name": "ipython",
    "version": 3
   },
   "file_extension": ".py",
   "mimetype": "text/x-python",
   "name": "python",
   "nbconvert_exporter": "python",
   "pygments_lexer": "ipython3",
   "version": "3.9.6"
  }
 },
 "nbformat": 4,
 "nbformat_minor": 5
}
